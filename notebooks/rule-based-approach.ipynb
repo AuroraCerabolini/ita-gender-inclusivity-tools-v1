{
 "cells": [
  {
   "cell_type": "code",
   "execution_count": 2,
   "metadata": {},
   "outputs": [],
   "source": [
    "import pandas as pd\n",
    "import spacy"
   ]
  },
  {
   "cell_type": "code",
   "execution_count": null,
   "metadata": {},
   "outputs": [],
   "source": [
    "from rule_based_approach._spacy import spacify \n",
    "from rule_based_approach.utils import find_initial_nouns, identify_nouns_to_modify, modify_sentence_based_on_rules\n",
    "from rule_based_approach.gender_mappings import articles, adjectives"
   ]
  },
  {
   "cell_type": "code",
   "execution_count": 5,
   "metadata": {},
   "outputs": [
    {
     "data": {
      "text/html": [
       "<div>\n",
       "<style scoped>\n",
       "    .dataframe tbody tr th:only-of-type {\n",
       "        vertical-align: middle;\n",
       "    }\n",
       "\n",
       "    .dataframe tbody tr th {\n",
       "        vertical-align: top;\n",
       "    }\n",
       "\n",
       "    .dataframe thead th {\n",
       "        text-align: right;\n",
       "    }\n",
       "</style>\n",
       "<table border=\"1\" class=\"dataframe\">\n",
       "  <thead>\n",
       "    <tr style=\"text-align: right;\">\n",
       "      <th></th>\n",
       "      <th>femminile_singolare</th>\n",
       "      <th>maschile_singolare</th>\n",
       "      <th>femminile_plurale</th>\n",
       "      <th>maschile_plurale</th>\n",
       "    </tr>\n",
       "  </thead>\n",
       "  <tbody>\n",
       "    <tr>\n",
       "      <th>0</th>\n",
       "      <td>Allieva</td>\n",
       "      <td>Allievo</td>\n",
       "      <td>Allieve</td>\n",
       "      <td>Allievi</td>\n",
       "    </tr>\n",
       "    <tr>\n",
       "      <th>1</th>\n",
       "      <td>Alunna</td>\n",
       "      <td>Alunno</td>\n",
       "      <td>Alunne</td>\n",
       "      <td>Alunni</td>\n",
       "    </tr>\n",
       "    <tr>\n",
       "      <th>2</th>\n",
       "      <td>Ammessa</td>\n",
       "      <td>Ammesso</td>\n",
       "      <td>Ammesse</td>\n",
       "      <td>Ammessi</td>\n",
       "    </tr>\n",
       "    <tr>\n",
       "      <th>3</th>\n",
       "      <td>Appaltatrice</td>\n",
       "      <td>Appaltatore</td>\n",
       "      <td>Appaltatrici</td>\n",
       "      <td>Appaltatori</td>\n",
       "    </tr>\n",
       "    <tr>\n",
       "      <th>4</th>\n",
       "      <td>Archeologa</td>\n",
       "      <td>Archeologo</td>\n",
       "      <td>Archeologhe</td>\n",
       "      <td>Archeologi</td>\n",
       "    </tr>\n",
       "  </tbody>\n",
       "</table>\n",
       "</div>"
      ],
      "text/plain": [
       "  femminile_singolare maschile_singolare femminile_plurale maschile_plurale\n",
       "0             Allieva            Allievo           Allieve          Allievi\n",
       "1              Alunna             Alunno            Alunne           Alunni\n",
       "2             Ammessa            Ammesso           Ammesse          Ammessi\n",
       "3        Appaltatrice        Appaltatore      Appaltatrici      Appaltatori\n",
       "4          Archeologa         Archeologo       Archeologhe       Archeologi"
      ]
     },
     "execution_count": 5,
     "metadata": {},
     "output_type": "execute_result"
    }
   ],
   "source": [
    "trigger_words = pd.read_csv('data/trigger_words.csv', delimiter = ';')\n",
    "trigger_words.head()"
   ]
  },
  {
   "cell_type": "code",
   "execution_count": 6,
   "metadata": {},
   "outputs": [],
   "source": [
    "sentence = \"L’appaltatore rimane responsabile dell’operato del suo rappresentante\""
   ]
  },
  {
   "cell_type": "code",
   "execution_count": 7,
   "metadata": {},
   "outputs": [],
   "source": [
    "doc = spacify(sentence)"
   ]
  },
  {
   "cell_type": "code",
   "execution_count": 8,
   "metadata": {},
   "outputs": [
    {
     "name": "stdout",
     "output_type": "stream",
     "text": [
      "             text           lemma   POS     explain\n",
      "0              L’              il   DET  determiner\n",
      "1     appaltatore     appaltatore  NOUN        noun\n",
      "2          rimane        rimanere  VERB        verb\n",
      "3    responsabile    responsabile   ADJ   adjective\n",
      "4           dell’           di il   ADP  adposition\n",
      "5         operato         operato  NOUN        noun\n",
      "6             del           di il   ADP  adposition\n",
      "7             suo             suo   DET  determiner\n",
      "8  rappresentante  rappresentante  NOUN        noun\n"
     ]
    }
   ],
   "source": [
    "cols = (\"text\", \"lemma\", \"POS\", \"explain\")\n",
    "rows = []\n",
    "for t in doc:\n",
    "    row = [t.text, t.lemma_, t.pos_, spacy.explain(t.pos_)]\n",
    "    rows.append(row)\n",
    "print(pd.DataFrame(rows, columns=cols))"
   ]
  },
  {
   "cell_type": "code",
   "execution_count": 9,
   "metadata": {},
   "outputs": [
    {
     "data": {
      "text/plain": [
       "[(appaltatore, 1), (rappresentante, 8)]"
      ]
     },
     "execution_count": 9,
     "metadata": {},
     "output_type": "execute_result"
    }
   ],
   "source": [
    "initial_nouns = find_initial_nouns(doc=doc, trigger_words=trigger_words)\n",
    "initial_nouns"
   ]
  },
  {
   "cell_type": "code",
   "execution_count": 10,
   "metadata": {},
   "outputs": [
    {
     "name": "stdout",
     "output_type": "stream",
     "text": [
      "The nouns to be made gender inclusive are:\n",
      "appaltatore\n",
      "rappresentante\n"
     ]
    }
   ],
   "source": [
    "nouns_to_modify = identify_nouns_to_modify(word_list=initial_nouns, trigger_words=trigger_words)"
   ]
  },
  {
   "cell_type": "code",
   "execution_count": 11,
   "metadata": {},
   "outputs": [
    {
     "name": "stdout",
     "output_type": "stream",
     "text": [
      "Suggestion:\n",
      "la appaltatrice/l’appaltatore rimane responsabile dell’operato della sua/del suo rappresentante\n"
     ]
    }
   ],
   "source": [
    "inclusive_sentence = modify_sentence_based_on_rules(doc=doc, nouns_to_modify=nouns_to_modify, trigger_words=trigger_words, \n",
    "                                                    articles=articles, adjectives=adjectives)"
   ]
  }
 ],
 "metadata": {
  "kernelspec": {
   "display_name": "ita-gender-inclusivity-tools",
   "language": "python",
   "name": "python3"
  },
  "language_info": {
   "codemirror_mode": {
    "name": "ipython",
    "version": 3
   },
   "file_extension": ".py",
   "mimetype": "text/x-python",
   "name": "python",
   "nbconvert_exporter": "python",
   "pygments_lexer": "ipython3",
   "version": "3.9.19"
  }
 },
 "nbformat": 4,
 "nbformat_minor": 2
}
